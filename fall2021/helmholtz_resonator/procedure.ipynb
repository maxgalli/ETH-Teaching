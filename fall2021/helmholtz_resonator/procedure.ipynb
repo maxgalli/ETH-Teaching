{
 "cells": [
  {
   "cell_type": "code",
   "execution_count": 26,
   "metadata": {},
   "outputs": [],
   "source": [
    "import numpy as np\n",
    "import matplotlib.pyplot as plt\n",
    "from scipy.optimize import curve_fit\n",
    "from uncertainties import ufloat"
   ]
  },
  {
   "cell_type": "code",
   "execution_count": 27,
   "metadata": {},
   "outputs": [],
   "source": [
    "empty_mass = .389 # kg\n",
    "full_mass = 1.114 # kg\n",
    "water_density = 997 # kg/m^3\n",
    "\n",
    "d_n = 0.02 # m (neck diameter)\n",
    "l_n = 0.085 # m (neck length)"
   ]
  },
  {
   "cell_type": "code",
   "execution_count": 28,
   "metadata": {},
   "outputs": [],
   "source": [
    "def straight_line(x, A, B):\n",
    "    return A*x + B\n",
    "\n",
    "def volume(density, mass):\n",
    "    return mass/density\n",
    "\n",
    "def sound_speed(slope, d, l):\n",
    "    c = 1.46212\n",
    "    return (4 / d) * (np.pi * (l + c*d/2) * slope)**(1/2)\n",
    "\n",
    "volume_full = volume(water_density, full_mass)"
   ]
  },
  {
   "cell_type": "code",
   "execution_count": 29,
   "metadata": {},
   "outputs": [],
   "source": [
    "mass = [.389, .499, .566, .677, .800] # kg\n",
    "frequency = [114.26, 121.58, 131.84, 147.95, 172.85] # Hz\n",
    "\n",
    "x = [1 / (volume_full - volume(water_density, m)) for m in mass]\n",
    "y = [f**2 for f in frequency]"
   ]
  },
  {
   "cell_type": "code",
   "execution_count": 30,
   "metadata": {},
   "outputs": [],
   "source": [
    "popt, pcov = curve_fit(straight_line, x, y)\n",
    "xx = np.linspace(x[0], x[-1], 1000)\n",
    "yy = straight_line(xx, popt[0], popt[1])"
   ]
  },
  {
   "cell_type": "code",
   "execution_count": 31,
   "metadata": {},
   "outputs": [
    {
     "data": {
      "text/plain": [
       "[<matplotlib.lines.Line2D at 0x7f2eb55d6fd0>]"
      ]
     },
     "execution_count": 31,
     "metadata": {},
     "output_type": "execute_result"
    },
    {
     "data": {
      "image/png": "[encoded data removed]",
      "text/plain": [
       "<Figure size 432x288 with 1 Axes>"
      ]
     },
     "metadata": {
      "needs_background": "light"
     },
     "output_type": "display_data"
    }
   ],
   "source": [
    "fig, ax = plt.subplots()\n",
    "plt.scatter(x, y)\n",
    "plt.plot(xx, yy)"
   ]
  },
  {
   "cell_type": "code",
   "execution_count": 34,
   "metadata": {},
   "outputs": [
    {
     "data": {
      "text/plain": [
       "344.6662910694702"
      ]
     },
     "execution_count": 34,
     "metadata": {},
     "output_type": "execute_result"
    }
   ],
   "source": [
    "slope = popt[0]\n",
    "sigma_slope = np.sqrt(np.diag(pcov))[0]\n",
    "v = sound_speed(slope, d_n, l_n)\n",
    "v"
   ]
  },
  {
   "cell_type": "code",
   "execution_count": 35,
   "metadata": {},
   "outputs": [
    {
     "data": {
      "text/plain": [
       "344.6662910694702+/-16.808574214317893"
      ]
     },
     "execution_count": 35,
     "metadata": {},
     "output_type": "execute_result"
    }
   ],
   "source": [
    "d_n_u = ufloat(d_n, 0.001)\n",
    "l_n_u = ufloat(l_n, 0.001)\n",
    "slope_u = ufloat(slope, sigma_slope)\n",
    "\n",
    "v_u = sound_speed(slope_u, d_n_u, l_n_u)\n",
    "v_u"
   ]
  }
 ],
 "metadata": {
  "kernelspec": {
   "display_name": "Python 3",
   "language": "python",
   "name": "python3"
  },
  "language_info": {
   "codemirror_mode": {
    "name": "ipython",
    "version": 3
   },
   "file_extension": ".py",
   "mimetype": "text/x-python",
   "name": "python",
   "nbconvert_exporter": "python",
   "pygments_lexer": "ipython3",
   "version": "3.7.6"
  }
 },
 "nbformat": 4,
 "nbformat_minor": 4
}
