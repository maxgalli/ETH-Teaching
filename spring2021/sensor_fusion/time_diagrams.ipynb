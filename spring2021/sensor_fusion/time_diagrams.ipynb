{
 "cells": [
  {
   "cell_type": "markdown",
   "metadata": {},
   "source": [
    "# Time Diagrams\n",
    "\n",
    "Tasks:\n",
    "\n",
    "- plot rotation angle $\\theta$ and rotation speed $\\dot \\theta$ against time\n",
    "    - $\\theta$ is measured both with sensor fusion (Oscillation in the AndroSensor app) and calculated from the magnometer readings\n",
    "    - the rotation speed is measured with the gyroscope \n",
    "- fit the data to the equations of motion of a damped harmonic oscillator\n",
    "- from the parameters obtained, determin the quality factor $Q_{f}$"
   ]
  },
  {
   "cell_type": "code",
   "execution_count": 1,
   "metadata": {},
   "outputs": [],
   "source": [
    "import pandas as pd\n",
    "import numpy as np\n",
    "import matplotlib.pyplot as plt\n",
    "import math\n",
    "from scipy.optimize import curve_fit"
   ]
  },
  {
   "cell_type": "code",
   "execution_count": 2,
   "metadata": {},
   "outputs": [],
   "source": [
    "def shift(arr, shift):\n",
    "    \"\"\" Function to constrain the measurements in degrees inside a 0-360 range\n",
    "    (it basically avoids the visual effect we get due to the arbitrary assignment \n",
    "    of 0 and 360 in the app)\n",
    "    \"\"\"\n",
    "    res = []\n",
    "    for v in arr:\n",
    "        v += shift\n",
    "        if v > 360:\n",
    "            v -= 360\n",
    "        if v < 0:\n",
    "            v = 360 - abs(v)\n",
    "        res.append(v)\n",
    "    return np.array(res)\n",
    "\n",
    "def time_to_rad(arr):\n",
    "    \"\"\" Convert time values to radiants with a conversion: n_rad = t*step_rad*pi/step_time\n",
    "        Time is in [ms]\n",
    "    \"\"\"\n",
    "    step_rad = 0.5\n",
    "    step_time = 10000\n",
    "    return arr*step_rad*np.pi/step_time\n",
    "\n",
    "def shift_min_to_zero(arr):\n",
    "    shift = np.amin(arr)\n",
    "    return arr - shift"
   ]
  },
  {
   "cell_type": "code",
   "execution_count": 3,
   "metadata": {},
   "outputs": [],
   "source": [
    "def general_damped_sinusoid(t, amp, dec, ang_freq, phase, shift):\n",
    "    return amp * np.exp(-dec*t) * (np.cos(ang_freq*t+phase)+np.sin(ang_freq*t+phase)) + shift"
   ]
  },
  {
   "cell_type": "code",
   "execution_count": 4,
   "metadata": {},
   "outputs": [],
   "source": [
    "# Remember to delete first row from the file\n",
    "input_file = \"data/1_surface.csv\""
   ]
  },
  {
   "cell_type": "code",
   "execution_count": 5,
   "metadata": {},
   "outputs": [],
   "source": [
    "dataset = pd.read_csv(input_file, sep=\";\")"
   ]
  },
  {
   "cell_type": "code",
   "execution_count": 6,
   "metadata": {},
   "outputs": [
    {
     "data": {
      "text/html": [
       "<div>\n",
       "<style scoped>\n",
       "    .dataframe tbody tr th:only-of-type {\n",
       "        vertical-align: middle;\n",
       "    }\n",
       "\n",
       "    .dataframe tbody tr th {\n",
       "        vertical-align: top;\n",
       "    }\n",
       "\n",
       "    .dataframe thead th {\n",
       "        text-align: right;\n",
       "    }\n",
       "</style>\n",
       "<table border=\"1\" class=\"dataframe\">\n",
       "  <thead>\n",
       "    <tr style=\"text-align: right;\">\n",
       "      <th></th>\n",
       "      <th>ACCELEROMETER X (m/s²)</th>\n",
       "      <th>ACCELEROMETER Y (m/s²)</th>\n",
       "      <th>ACCELEROMETER Z (m/s²)</th>\n",
       "      <th>GRAVITY X (m/s²)</th>\n",
       "      <th>GRAVITY Y (m/s²)</th>\n",
       "      <th>GRAVITY Z (m/s²)</th>\n",
       "      <th>LINEAR ACCELERATION X (m/s²)</th>\n",
       "      <th>LINEAR ACCELERATION Y (m/s²)</th>\n",
       "      <th>LINEAR ACCELERATION Z (m/s²)</th>\n",
       "      <th>GYROSCOPE X (rad/s)</th>\n",
       "      <th>GYROSCOPE Y (rad/s)</th>\n",
       "      <th>GYROSCOPE Z (rad/s)</th>\n",
       "      <th>MAGNETIC FIELD X (μT)</th>\n",
       "      <th>MAGNETIC FIELD Y (μT)</th>\n",
       "      <th>MAGNETIC FIELD Z (μT)</th>\n",
       "      <th>ORIENTATION Z (azimuth °)</th>\n",
       "      <th>ORIENTATION X (pitch °)</th>\n",
       "      <th>ORIENTATION Y (roll °)</th>\n",
       "      <th>Time since start in ms</th>\n",
       "      <th>YYYY-MO-DD HH-MI-SS_SSS</th>\n",
       "    </tr>\n",
       "  </thead>\n",
       "  <tbody>\n",
       "    <tr>\n",
       "      <th>0</th>\n",
       "      <td>-0.27773</td>\n",
       "      <td>-0.07901</td>\n",
       "      <td>9.91678</td>\n",
       "      <td>-0.30342</td>\n",
       "      <td>-0.20425</td>\n",
       "      <td>9.79983</td>\n",
       "      <td>0.03048</td>\n",
       "      <td>0.09651</td>\n",
       "      <td>-0.63961</td>\n",
       "      <td>0.10263</td>\n",
       "      <td>0.06597</td>\n",
       "      <td>-0.80817</td>\n",
       "      <td>-18.12</td>\n",
       "      <td>-4.38</td>\n",
       "      <td>-33.42</td>\n",
       "      <td>103.813</td>\n",
       "      <td>1.193</td>\n",
       "      <td>1.773</td>\n",
       "      <td>26</td>\n",
       "      <td>2021-02-11 21:49:46:533</td>\n",
       "    </tr>\n",
       "    <tr>\n",
       "      <th>1</th>\n",
       "      <td>-0.27773</td>\n",
       "      <td>-0.07901</td>\n",
       "      <td>9.91678</td>\n",
       "      <td>-0.32377</td>\n",
       "      <td>-0.15703</td>\n",
       "      <td>9.80005</td>\n",
       "      <td>0.02929</td>\n",
       "      <td>0.03732</td>\n",
       "      <td>0.25560</td>\n",
       "      <td>0.10263</td>\n",
       "      <td>0.06597</td>\n",
       "      <td>-0.80817</td>\n",
       "      <td>-17.52</td>\n",
       "      <td>-5.22</td>\n",
       "      <td>-33.84</td>\n",
       "      <td>106.148</td>\n",
       "      <td>0.917</td>\n",
       "      <td>1.892</td>\n",
       "      <td>74</td>\n",
       "      <td>2021-02-11 21:49:46:581</td>\n",
       "    </tr>\n",
       "    <tr>\n",
       "      <th>2</th>\n",
       "      <td>-0.26815</td>\n",
       "      <td>-0.39983</td>\n",
       "      <td>9.90242</td>\n",
       "      <td>-0.32377</td>\n",
       "      <td>-0.15703</td>\n",
       "      <td>9.80005</td>\n",
       "      <td>0.02929</td>\n",
       "      <td>0.03732</td>\n",
       "      <td>0.25560</td>\n",
       "      <td>0.10263</td>\n",
       "      <td>0.06597</td>\n",
       "      <td>-0.80817</td>\n",
       "      <td>-17.52</td>\n",
       "      <td>-5.22</td>\n",
       "      <td>-33.84</td>\n",
       "      <td>106.148</td>\n",
       "      <td>0.917</td>\n",
       "      <td>1.892</td>\n",
       "      <td>123</td>\n",
       "      <td>2021-02-11 21:49:46:630</td>\n",
       "    </tr>\n",
       "    <tr>\n",
       "      <th>3</th>\n",
       "      <td>-0.26815</td>\n",
       "      <td>-0.39983</td>\n",
       "      <td>9.90242</td>\n",
       "      <td>-0.35759</td>\n",
       "      <td>-0.11454</td>\n",
       "      <td>9.79946</td>\n",
       "      <td>0.06071</td>\n",
       "      <td>-0.03629</td>\n",
       "      <td>0.11972</td>\n",
       "      <td>0.07330</td>\n",
       "      <td>0.04704</td>\n",
       "      <td>-1.00060</td>\n",
       "      <td>-17.52</td>\n",
       "      <td>-5.22</td>\n",
       "      <td>-33.84</td>\n",
       "      <td>106.148</td>\n",
       "      <td>0.917</td>\n",
       "      <td>1.892</td>\n",
       "      <td>174</td>\n",
       "      <td>2021-02-11 21:49:46:681</td>\n",
       "    </tr>\n",
       "    <tr>\n",
       "      <th>4</th>\n",
       "      <td>-0.27294</td>\n",
       "      <td>-0.41659</td>\n",
       "      <td>10.01016</td>\n",
       "      <td>-0.35759</td>\n",
       "      <td>-0.11454</td>\n",
       "      <td>9.79946</td>\n",
       "      <td>0.06071</td>\n",
       "      <td>-0.03629</td>\n",
       "      <td>0.11972</td>\n",
       "      <td>0.07330</td>\n",
       "      <td>0.04704</td>\n",
       "      <td>-1.00060</td>\n",
       "      <td>-16.02</td>\n",
       "      <td>-7.98</td>\n",
       "      <td>-33.66</td>\n",
       "      <td>115.963</td>\n",
       "      <td>0.669</td>\n",
       "      <td>2.090</td>\n",
       "      <td>224</td>\n",
       "      <td>2021-02-11 21:49:46:731</td>\n",
       "    </tr>\n",
       "    <tr>\n",
       "      <th>...</th>\n",
       "      <td>...</td>\n",
       "      <td>...</td>\n",
       "      <td>...</td>\n",
       "      <td>...</td>\n",
       "      <td>...</td>\n",
       "      <td>...</td>\n",
       "      <td>...</td>\n",
       "      <td>...</td>\n",
       "      <td>...</td>\n",
       "      <td>...</td>\n",
       "      <td>...</td>\n",
       "      <td>...</td>\n",
       "      <td>...</td>\n",
       "      <td>...</td>\n",
       "      <td>...</td>\n",
       "      <td>...</td>\n",
       "      <td>...</td>\n",
       "      <td>...</td>\n",
       "      <td>...</td>\n",
       "      <td>...</td>\n",
       "    </tr>\n",
       "    <tr>\n",
       "      <th>346</th>\n",
       "      <td>-0.25857</td>\n",
       "      <td>-0.33279</td>\n",
       "      <td>9.82820</td>\n",
       "      <td>-0.19362</td>\n",
       "      <td>-0.29421</td>\n",
       "      <td>9.80032</td>\n",
       "      <td>-0.12481</td>\n",
       "      <td>-0.08168</td>\n",
       "      <td>0.05421</td>\n",
       "      <td>-0.04215</td>\n",
       "      <td>-0.03910</td>\n",
       "      <td>0.00733</td>\n",
       "      <td>18.78</td>\n",
       "      <td>4.74</td>\n",
       "      <td>-34.50</td>\n",
       "      <td>282.214</td>\n",
       "      <td>1.719</td>\n",
       "      <td>1.132</td>\n",
       "      <td>17323</td>\n",
       "      <td>2021-02-11 21:50:03:830</td>\n",
       "    </tr>\n",
       "    <tr>\n",
       "      <th>347</th>\n",
       "      <td>-0.19154</td>\n",
       "      <td>-0.36152</td>\n",
       "      <td>9.83538</td>\n",
       "      <td>-0.18133</td>\n",
       "      <td>-0.31133</td>\n",
       "      <td>9.80003</td>\n",
       "      <td>-0.01020</td>\n",
       "      <td>-0.05020</td>\n",
       "      <td>0.03535</td>\n",
       "      <td>-0.05559</td>\n",
       "      <td>-0.06292</td>\n",
       "      <td>-0.02382</td>\n",
       "      <td>18.78</td>\n",
       "      <td>4.74</td>\n",
       "      <td>-34.50</td>\n",
       "      <td>282.214</td>\n",
       "      <td>1.719</td>\n",
       "      <td>1.132</td>\n",
       "      <td>17373</td>\n",
       "      <td>2021-02-11 21:50:03:880</td>\n",
       "    </tr>\n",
       "    <tr>\n",
       "      <th>348</th>\n",
       "      <td>0.14844</td>\n",
       "      <td>-0.26576</td>\n",
       "      <td>10.02931</td>\n",
       "      <td>-0.18133</td>\n",
       "      <td>-0.31133</td>\n",
       "      <td>9.80003</td>\n",
       "      <td>-0.01020</td>\n",
       "      <td>-0.05020</td>\n",
       "      <td>0.03535</td>\n",
       "      <td>-0.05559</td>\n",
       "      <td>-0.06292</td>\n",
       "      <td>-0.02382</td>\n",
       "      <td>19.80</td>\n",
       "      <td>5.28</td>\n",
       "      <td>-34.14</td>\n",
       "      <td>281.404</td>\n",
       "      <td>1.819</td>\n",
       "      <td>1.060</td>\n",
       "      <td>17423</td>\n",
       "      <td>2021-02-11 21:50:03:930</td>\n",
       "    </tr>\n",
       "    <tr>\n",
       "      <th>349</th>\n",
       "      <td>0.14844</td>\n",
       "      <td>-0.26576</td>\n",
       "      <td>10.02931</td>\n",
       "      <td>-0.09363</td>\n",
       "      <td>-0.34620</td>\n",
       "      <td>9.80009</td>\n",
       "      <td>0.01702</td>\n",
       "      <td>0.02537</td>\n",
       "      <td>0.20528</td>\n",
       "      <td>-0.05559</td>\n",
       "      <td>-0.06292</td>\n",
       "      <td>-0.02382</td>\n",
       "      <td>19.80</td>\n",
       "      <td>5.28</td>\n",
       "      <td>-34.14</td>\n",
       "      <td>281.404</td>\n",
       "      <td>1.819</td>\n",
       "      <td>1.060</td>\n",
       "      <td>17473</td>\n",
       "      <td>2021-02-11 21:50:03:980</td>\n",
       "    </tr>\n",
       "    <tr>\n",
       "      <th>350</th>\n",
       "      <td>0.14844</td>\n",
       "      <td>-0.26576</td>\n",
       "      <td>10.02931</td>\n",
       "      <td>-0.09363</td>\n",
       "      <td>-0.34620</td>\n",
       "      <td>9.80009</td>\n",
       "      <td>0.01702</td>\n",
       "      <td>0.02537</td>\n",
       "      <td>0.20528</td>\n",
       "      <td>-0.03910</td>\n",
       "      <td>-0.03787</td>\n",
       "      <td>-0.16188</td>\n",
       "      <td>18.48</td>\n",
       "      <td>4.02</td>\n",
       "      <td>-33.42</td>\n",
       "      <td>279.081</td>\n",
       "      <td>2.023</td>\n",
       "      <td>0.547</td>\n",
       "      <td>17523</td>\n",
       "      <td>2021-02-11 21:50:04:030</td>\n",
       "    </tr>\n",
       "  </tbody>\n",
       "</table>\n",
       "<p>351 rows × 20 columns</p>\n",
       "</div>"
      ],
      "text/plain": [
       "     ACCELEROMETER X (m/s²)  ACCELEROMETER Y (m/s²)  ACCELEROMETER Z (m/s²)  \\\n",
       "0                  -0.27773                -0.07901                 9.91678   \n",
       "1                  -0.27773                -0.07901                 9.91678   \n",
       "2                  -0.26815                -0.39983                 9.90242   \n",
       "3                  -0.26815                -0.39983                 9.90242   \n",
       "4                  -0.27294                -0.41659                10.01016   \n",
       "..                      ...                     ...                     ...   \n",
       "346                -0.25857                -0.33279                 9.82820   \n",
       "347                -0.19154                -0.36152                 9.83538   \n",
       "348                 0.14844                -0.26576                10.02931   \n",
       "349                 0.14844                -0.26576                10.02931   \n",
       "350                 0.14844                -0.26576                10.02931   \n",
       "\n",
       "     GRAVITY X (m/s²)  GRAVITY Y (m/s²)  GRAVITY Z (m/s²)  \\\n",
       "0            -0.30342          -0.20425           9.79983   \n",
       "1            -0.32377          -0.15703           9.80005   \n",
       "2            -0.32377          -0.15703           9.80005   \n",
       "3            -0.35759          -0.11454           9.79946   \n",
       "4            -0.35759          -0.11454           9.79946   \n",
       "..                ...               ...               ...   \n",
       "346          -0.19362          -0.29421           9.80032   \n",
       "347          -0.18133          -0.31133           9.80003   \n",
       "348          -0.18133          -0.31133           9.80003   \n",
       "349          -0.09363          -0.34620           9.80009   \n",
       "350          -0.09363          -0.34620           9.80009   \n",
       "\n",
       "     LINEAR ACCELERATION X (m/s²)  LINEAR ACCELERATION Y (m/s²)  \\\n",
       "0                         0.03048                       0.09651   \n",
       "1                         0.02929                       0.03732   \n",
       "2                         0.02929                       0.03732   \n",
       "3                         0.06071                      -0.03629   \n",
       "4                         0.06071                      -0.03629   \n",
       "..                            ...                           ...   \n",
       "346                      -0.12481                      -0.08168   \n",
       "347                      -0.01020                      -0.05020   \n",
       "348                      -0.01020                      -0.05020   \n",
       "349                       0.01702                       0.02537   \n",
       "350                       0.01702                       0.02537   \n",
       "\n",
       "     LINEAR ACCELERATION Z (m/s²)  GYROSCOPE X (rad/s)  GYROSCOPE Y (rad/s)  \\\n",
       "0                        -0.63961              0.10263              0.06597   \n",
       "1                         0.25560              0.10263              0.06597   \n",
       "2                         0.25560              0.10263              0.06597   \n",
       "3                         0.11972              0.07330              0.04704   \n",
       "4                         0.11972              0.07330              0.04704   \n",
       "..                            ...                  ...                  ...   \n",
       "346                       0.05421             -0.04215             -0.03910   \n",
       "347                       0.03535             -0.05559             -0.06292   \n",
       "348                       0.03535             -0.05559             -0.06292   \n",
       "349                       0.20528             -0.05559             -0.06292   \n",
       "350                       0.20528             -0.03910             -0.03787   \n",
       "\n",
       "     GYROSCOPE Z (rad/s)  MAGNETIC FIELD X (μT)  MAGNETIC FIELD Y (μT)  \\\n",
       "0               -0.80817                 -18.12                  -4.38   \n",
       "1               -0.80817                 -17.52                  -5.22   \n",
       "2               -0.80817                 -17.52                  -5.22   \n",
       "3               -1.00060                 -17.52                  -5.22   \n",
       "4               -1.00060                 -16.02                  -7.98   \n",
       "..                   ...                    ...                    ...   \n",
       "346              0.00733                  18.78                   4.74   \n",
       "347             -0.02382                  18.78                   4.74   \n",
       "348             -0.02382                  19.80                   5.28   \n",
       "349             -0.02382                  19.80                   5.28   \n",
       "350             -0.16188                  18.48                   4.02   \n",
       "\n",
       "     MAGNETIC FIELD Z (μT)  ORIENTATION Z (azimuth °)  \\\n",
       "0                   -33.42                    103.813   \n",
       "1                   -33.84                    106.148   \n",
       "2                   -33.84                    106.148   \n",
       "3                   -33.84                    106.148   \n",
       "4                   -33.66                    115.963   \n",
       "..                     ...                        ...   \n",
       "346                 -34.50                    282.214   \n",
       "347                 -34.50                    282.214   \n",
       "348                 -34.14                    281.404   \n",
       "349                 -34.14                    281.404   \n",
       "350                 -33.42                    279.081   \n",
       "\n",
       "     ORIENTATION X (pitch °)  ORIENTATION Y (roll °)  Time since start in ms   \\\n",
       "0                      1.193                   1.773                       26   \n",
       "1                      0.917                   1.892                       74   \n",
       "2                      0.917                   1.892                      123   \n",
       "3                      0.917                   1.892                      174   \n",
       "4                      0.669                   2.090                      224   \n",
       "..                       ...                     ...                      ...   \n",
       "346                    1.719                   1.132                    17323   \n",
       "347                    1.719                   1.132                    17373   \n",
       "348                    1.819                   1.060                    17423   \n",
       "349                    1.819                   1.060                    17473   \n",
       "350                    2.023                   0.547                    17523   \n",
       "\n",
       "     YYYY-MO-DD HH-MI-SS_SSS  \n",
       "0    2021-02-11 21:49:46:533  \n",
       "1    2021-02-11 21:49:46:581  \n",
       "2    2021-02-11 21:49:46:630  \n",
       "3    2021-02-11 21:49:46:681  \n",
       "4    2021-02-11 21:49:46:731  \n",
       "..                       ...  \n",
       "346  2021-02-11 21:50:03:830  \n",
       "347  2021-02-11 21:50:03:880  \n",
       "348  2021-02-11 21:50:03:930  \n",
       "349  2021-02-11 21:50:03:980  \n",
       "350  2021-02-11 21:50:04:030  \n",
       "\n",
       "[351 rows x 20 columns]"
      ]
     },
     "execution_count": 6,
     "metadata": {},
     "output_type": "execute_result"
    }
   ],
   "source": [
    "dataset"
   ]
  },
  {
   "cell_type": "markdown",
   "metadata": {},
   "source": [
    "### Sensor Fusion\n",
    "\n",
    "From the description in the app, we see that Z already measures the angle relative to the north pole.\n",
    "\n",
    "For what concerns the uncertainty, we proceed like follows:\n",
    "\n",
    "- sensor fusion measurement is computed from values of accelerometer and magnetometer\n",
    "- the app gives the accuracy for both these measurements; we use an approximation of that as an estimate of the uncertainty;\n",
    "- we compute the final $\\frac{\\delta q}{q}$ with the quadratic sum of the relative uncertainties on the three axes\n",
    "\n",
    "For the quality factor (which represents the number of oscillations performed before these become negligible) we use the formula for weakly damped oscillators $Q_f = \\frac{\\omega}{\\nu}$"
   ]
  },
  {
   "cell_type": "code",
   "execution_count": 7,
   "metadata": {},
   "outputs": [
    {
     "data": {
      "image/png": "[encoded data removed]",
      "text/plain": [
       "<Figure size 432x288 with 1 Axes>"
      ]
     },
     "metadata": {
      "needs_background": "light"
     },
     "output_type": "display_data"
    }
   ],
   "source": [
    "# Plot the result\n",
    "t = dataset['Time since start in ms ']\n",
    "\n",
    "dataset['orientation_z_shift'] = shift(dataset['ORIENTATION Z (azimuth °)'], -100)\n",
    "degrees = dataset['orientation_z_shift']\n",
    "\n",
    "fig, ax = plt.subplots(constrained_layout=True)\n",
    "ax.set_title('Sensor Fusion')\n",
    "ax.set_xlabel('Time since start in ms ')\n",
    "ax.set_ylabel('ORIENTATION Z (azimuth °)')\n",
    "plt.plot(t, degrees, marker='.', linestyle='', color='b')\n",
    "plt.show();"
   ]
  },
  {
   "cell_type": "code",
   "execution_count": 8,
   "metadata": {},
   "outputs": [],
   "source": [
    "# Compute the uncertainties and plot again\n",
    "accel_accuracy = 0.002\n",
    "mag_accuracy = 0.06\n",
    "dataset = dataset.assign(\n",
    "    sf_unc=np.sqrt(\n",
    "        (accel_accuracy/dataset['ACCELEROMETER X (m/s²)'])**2\n",
    "        + (mag_accuracy/dataset['MAGNETIC FIELD Z (μT)'])**2\n",
    "    ) \n",
    "    * dataset['ORIENTATION Z (azimuth °)']\n",
    ")"
   ]
  },
  {
   "cell_type": "code",
   "execution_count": 9,
   "metadata": {},
   "outputs": [
    {
     "data": {
      "image/png": "[encoded data removed]",
      "text/plain": [
       "<Figure size 432x288 with 1 Axes>"
      ]
     },
     "metadata": {
      "needs_background": "light"
     },
     "output_type": "display_data"
    }
   ],
   "source": [
    "yerr = dataset['sf_unc']\n",
    "\n",
    "fig, ax = plt.subplots(constrained_layout=True)\n",
    "ax.set_title('Sensor Fusion')\n",
    "ax.set_xlabel('Time since start in ms ')\n",
    "ax.set_ylabel('ORIENTATION Z (azimuth °)')\n",
    "plt.errorbar(t, degrees, yerr=yerr, linestyle='', color='b')\n",
    "plt.show();"
   ]
  },
  {
   "cell_type": "code",
   "execution_count": 26,
   "metadata": {},
   "outputs": [
    {
     "data": {
      "image/png": "[encoded data removed]",
      "text/plain": [
       "<Figure size 432x288 with 1 Axes>"
      ]
     },
     "metadata": {
      "needs_background": "light"
     },
     "output_type": "display_data"
    },
    {
     "name": "stdout",
     "output_type": "stream",
     "text": [
      "Amplitude = -127.08431093924018 +/- 1.5239590337687792\n",
      "Decay Constant = 1.6750884747003127 +/- 0.031289693786939944\n",
      "Angular Frequency = 7.3765343233096825 +/- 0.03915534621848627\n",
      "Phase = -175.59404877828968 +/- 0.018827112556248502\n",
      "Shift = 185.1310163323213 +/- 0.4637615279070247\n",
      "Quality factor = 2.20183424180905 +/- 0.04275738096357672\n"
     ]
    }
   ],
   "source": [
    "# Perform fit\n",
    "\n",
    "dataset['time_in_rad'] = time_to_rad(dataset['Time since start in ms '])\n",
    "rad_t = dataset['time_in_rad']\n",
    "\n",
    "# Fit only between 0 and 1.5 rad\n",
    "rad_t_range = dataset['time_in_rad'][dataset['time_in_rad'] < 2.4]\n",
    "degrees_range = dataset['orientation_z_shift'][dataset['time_in_rad'] < 2.4]\n",
    "\n",
    "parameters = ['Amplitude', 'Decay Constant', 'Angular Frequency', 'Phase', 'Shift']\n",
    "params = {}\n",
    "popt, pcov = curve_fit(general_damped_sinusoid, rad_t_range, degrees_range, maxfev=100000)\n",
    "stdevm = np.sqrt(np.diag(pcov))\n",
    "for name, val, unc in zip(parameters, popt, stdevm):\n",
    "    params[name] = {}\n",
    "    params[name]['value'] = val\n",
    "    params[name]['uncert'] = unc\n",
    "\n",
    "pred_degrees = general_damped_sinusoid(rad_t, *[p['value'] for p in params.values()])\n",
    "\n",
    "fig, ax = plt.subplots(constrained_layout=True)\n",
    "ax.set_title('Sensor Fusion - Fit')\n",
    "ax.set_xlabel('Time since start')\n",
    "ax.set_ylabel('ORIENTATION Z (azimuth °)')\n",
    "plt.plot(t, degrees, marker='.', linestyle='', color='b', label='data')\n",
    "plt.plot(t, pred_degrees, color='r', label='fit')\n",
    "plt.legend()\n",
    "plt.show();\n",
    "\n",
    "for k, v in params.items():\n",
    "    print('{} = {} +/- {}'.format(k, v['value'], v['uncert']))\n",
    "\n",
    "ang_freq = params['Angular Frequency']['value']\n",
    "dec_con = params['Decay Constant']['value']\n",
    "ang_freq_u = params['Angular Frequency']['uncert']\n",
    "dec_con_u = params['Decay Constant']['uncert']\n",
    "qf = ang_freq / (2 * dec_con)\n",
    "qf_u = math.sqrt((ang_freq_u/ang_freq)**2 + (dec_con_u/dec_con)**2) * qf\n",
    "print(\"Quality factor = {} +/- {}\".format(qf, qf_u))"
   ]
  },
  {
   "cell_type": "markdown",
   "metadata": {},
   "source": [
    "### Magnetometer\n",
    "\n",
    "Considering that the component fo the magnetic field along the Z axis is almost irrelevant, an acceptable solution consists in measuring the angle between the projection of the magnetic field on the phone plane and one of the axes of the plane.\n",
    "In this case we choose Y."
   ]
  },
  {
   "cell_type": "code",
   "execution_count": 27,
   "metadata": {},
   "outputs": [],
   "source": [
    "# DO NOT RUN\n",
    "# In principle this is the correct formula to return the angle between a vector (Earth magnetic field) and a plane (the phone)\n",
    "\n",
    "dataset = dataset.assign(\n",
    "    computed_angle=np.arccos(\n",
    "        (\n",
    "            dataset['MAGNETIC FIELD X (μT)'] \n",
    "            + dataset['MAGNETIC FIELD Y (μT)']\n",
    "            + dataset['MAGNETIC FIELD Z (μT)']\n",
    "        ) \n",
    "        / (np.sqrt(\n",
    "            dataset['MAGNETIC FIELD X (μT)']**2\n",
    "            + dataset['MAGNETIC FIELD Y (μT)']**2\n",
    "            + dataset['MAGNETIC FIELD Z (μT)']**2\n",
    "        ) * math.sqrt(3))  \n",
    "    )\n",
    ")"
   ]
  },
  {
   "cell_type": "code",
   "execution_count": 28,
   "metadata": {},
   "outputs": [],
   "source": [
    "dataset = dataset.assign(\n",
    "    computed_angle_on_plane=np.arcsin(\n",
    "        dataset['MAGNETIC FIELD Y (μT)'] /\n",
    "        np.sqrt(dataset['MAGNETIC FIELD Y (μT)']**2 + dataset['MAGNETIC FIELD X (μT)']**2)\n",
    "    )\n",
    ")"
   ]
  },
  {
   "cell_type": "code",
   "execution_count": 30,
   "metadata": {},
   "outputs": [
    {
     "data": {
      "image/png": "[encoded data removed]",
      "text/plain": [
       "<Figure size 432x288 with 1 Axes>"
      ]
     },
     "metadata": {
      "needs_background": "light"
     },
     "output_type": "display_data"
    }
   ],
   "source": [
    "# Plot the result\n",
    "angle_plane = [math.degrees(ang) for ang in dataset['computed_angle_on_plane']]\n",
    "angle_plane = shift_min_to_zero(angle_plane)\n",
    "dataset['angle_plane_shift'] = angle_plane\n",
    "\n",
    "fig, ax = plt.subplots(constrained_layout=True)\n",
    "ax.set_title('Magnetometer')\n",
    "ax.set_xlabel('Time since start in ms ')\n",
    "ax.set_ylabel('Angle on X-Y plane (°)')\n",
    "plt.plot(t, angle_plane, marker='.', linestyle='', color='b')\n",
    "plt.show();"
   ]
  },
  {
   "cell_type": "code",
   "execution_count": 31,
   "metadata": {},
   "outputs": [],
   "source": [
    "# Compute the uncertainties and plot again\n",
    "mag_accuracy = 0.06\n",
    "dataset = dataset.assign(\n",
    "    angle_on_plane_unc=np.sqrt(\n",
    "        (mag_accuracy/dataset['MAGNETIC FIELD X (μT)'])**2\n",
    "        + (mag_accuracy/dataset['MAGNETIC FIELD Y (μT)'])**2\n",
    "    ) \n",
    "    * dataset['computed_angle_on_plane']\n",
    ")"
   ]
  },
  {
   "cell_type": "code",
   "execution_count": 32,
   "metadata": {},
   "outputs": [
    {
     "data": {
      "image/png": "[encoded data removed]",
      "text/plain": [
       "<Figure size 432x288 with 1 Axes>"
      ]
     },
     "metadata": {
      "needs_background": "light"
     },
     "output_type": "display_data"
    }
   ],
   "source": [
    "yerr = dataset['angle_on_plane_unc']\n",
    "\n",
    "fig, ax = plt.subplots(constrained_layout=True)\n",
    "ax.set_title('Magnetometer')\n",
    "ax.set_xlabel('Time since start in ms ')\n",
    "ax.set_ylabel('Angle on X-Y plane (°)')\n",
    "plt.errorbar(t, angle_plane, yerr=yerr, linestyle='', color='b')\n",
    "plt.show();"
   ]
  },
  {
   "cell_type": "code",
   "execution_count": 36,
   "metadata": {},
   "outputs": [
    {
     "data": {
      "image/png": "[encoded data removed]",
      "text/plain": [
       "<Figure size 432x288 with 1 Axes>"
      ]
     },
     "metadata": {
      "needs_background": "light"
     },
     "output_type": "display_data"
    },
    {
     "name": "stdout",
     "output_type": "stream",
     "text": [
      "Amplitude = 72.56808299370633 +/- 2.169641674870918\n",
      "Decay Constant = 1.131431604043344 +/- 0.051252221333155136\n",
      "Angular Frequency = 8.257228472605197 +/- 0.0567811464217842\n",
      "Phase = -3.373588389308493 +/- 0.036472529490907714\n",
      "Shift = 103.11919021049498 +/- 0.6842328629643818\n",
      "Quality factor = 3.6490179534921627 +/- 0.1671889964770968\n"
     ]
    }
   ],
   "source": [
    "# Perform fit\n",
    "\n",
    "# Fit only between 0 and 1.5 rad\n",
    "rad_t_range = dataset['time_in_rad'][dataset['time_in_rad'] < 2.5]\n",
    "angle_plane_range = dataset['angle_plane_shift'][dataset['time_in_rad'] < 2.5]\n",
    "\n",
    "parameters = ['Amplitude', 'Decay Constant', 'Angular Frequency', 'Phase', 'Shift']\n",
    "params = {}\n",
    "popt, pcov = curve_fit(general_damped_sinusoid, rad_t_range, angle_plane_range, maxfev=100000)\n",
    "stdevm = np.sqrt(np.diag(pcov))\n",
    "for name, val, unc in zip(parameters, popt, stdevm):\n",
    "    params[name] = {}\n",
    "    params[name]['value'] = val\n",
    "    params[name]['uncert'] = unc\n",
    "\n",
    "pred_angle = general_damped_sinusoid(rad_t, *[p['value'] for p in params.values()])\n",
    "\n",
    "fig, ax = plt.subplots(constrained_layout=True)\n",
    "ax.set_title('Magnetometer - Fit')\n",
    "ax.set_xlabel('Time since start')\n",
    "ax.set_ylabel('Angle on X-Y plane (°)')\n",
    "plt.plot(t, angle_plane, marker='.', linestyle='', color='b', label='data')\n",
    "plt.plot(t, pred_angle, color='r', label='fit')\n",
    "plt.legend()\n",
    "plt.show();\n",
    "\n",
    "for k, v in params.items():\n",
    "    print('{} = {} +/- {}'.format(k, v['value'], v['uncert']))\n",
    "\n",
    "ang_freq = params['Angular Frequency']['value']\n",
    "dec_con = params['Decay Constant']['value']\n",
    "ang_freq_u = params['Angular Frequency']['uncert']\n",
    "dec_con_u = params['Decay Constant']['uncert']\n",
    "qf = ang_freq / (2 * dec_con)\n",
    "qf_u = math.sqrt((ang_freq_u/ang_freq)**2 + (dec_con_u/dec_con)**2) * qf\n",
    "print(\"Quality factor = {} +/- {}\".format(qf, qf_u))"
   ]
  },
  {
   "cell_type": "markdown",
   "metadata": {},
   "source": [
    "### Gyroscope\n",
    "\n",
    "The app says the accuracy is 0.00061086525\n",
    "\n",
    "We use 0.001 as a systematic uncertainty"
   ]
  },
  {
   "cell_type": "code",
   "execution_count": 37,
   "metadata": {},
   "outputs": [
    {
     "data": {
      "image/png": "[encoded data removed]",
      "text/plain": [
       "<Figure size 432x288 with 1 Axes>"
      ]
     },
     "metadata": {
      "needs_background": "light"
     },
     "output_type": "display_data"
    }
   ],
   "source": [
    "# Plot the result\n",
    "rad_vel = dataset['GYROSCOPE Z (rad/s)']\n",
    "\n",
    "fig, ax = plt.subplots(constrained_layout=True)\n",
    "ax.set_title('Gyroscope')\n",
    "ax.set_xlabel('Time since start in ms ')\n",
    "ax.set_ylabel('GYROSCOPE Z (rad/s)')\n",
    "plt.plot(t, rad_vel, marker='.', linestyle='', color='b')\n",
    "plt.show();"
   ]
  },
  {
   "cell_type": "code",
   "execution_count": 38,
   "metadata": {},
   "outputs": [
    {
     "data": {
      "image/png": "[encoded data removed]",
      "text/plain": [
       "<Figure size 432x288 with 1 Axes>"
      ]
     },
     "metadata": {
      "needs_background": "light"
     },
     "output_type": "display_data"
    }
   ],
   "source": [
    "# Plot with uncertainties\n",
    "gyr_accuracy = 0.001\n",
    "\n",
    "fig, ax = plt.subplots(constrained_layout=True)\n",
    "ax.set_title('Gyroscope')\n",
    "ax.set_xlabel('Time since start in ms ')\n",
    "ax.set_ylabel('GYROSCOPE Z (rad/s)')\n",
    "plt.errorbar(t, rad_vel, yerr=gyr_accuracy, linestyle='', color='b')\n",
    "plt.show();"
   ]
  },
  {
   "cell_type": "code",
   "execution_count": 40,
   "metadata": {},
   "outputs": [
    {
     "data": {
      "image/png": "[encoded data removed]",
      "text/plain": [
       "<Figure size 432x288 with 1 Axes>"
      ]
     },
     "metadata": {
      "needs_background": "light"
     },
     "output_type": "display_data"
    },
    {
     "name": "stdout",
     "output_type": "stream",
     "text": [
      "Amplitude = -2.36275158501728 +/- 0.08609915537587758\n",
      "Decay Constant = 1.6067535580806722 +/- 0.07607477666056364\n",
      "Angular Frequency = 7.336876156789517 +/- 0.06420477313103351\n",
      "Phase = -0.8426379698124173 +/- 0.028151443971072422\n",
      "Shift = -0.021496485748427416 +/- 0.017912842118517357\n",
      "Quality factor = 2.283136738640147 +/- 0.109930295918467\n"
     ]
    }
   ],
   "source": [
    "# Perform fit\n",
    "\n",
    "# Fit only between 0 and 1.5 rad\n",
    "rad_t_range = dataset['time_in_rad'][dataset['time_in_rad'] < 2.5]\n",
    "rad_vel_range = dataset['GYROSCOPE Z (rad/s)'][dataset['time_in_rad'] < 2.5]\n",
    "\n",
    "parameters = ['Amplitude', 'Decay Constant', 'Angular Frequency', 'Phase', 'Shift']\n",
    "params = {}\n",
    "popt, pcov = curve_fit(general_damped_sinusoid, rad_t_range, rad_vel_range, maxfev=100000)\n",
    "stdevm = np.sqrt(np.diag(pcov))\n",
    "for name, val, unc in zip(parameters, popt, stdevm):\n",
    "    params[name] = {}\n",
    "    params[name]['value'] = val\n",
    "    params[name]['uncert'] = unc\n",
    "\n",
    "pred_rad_vel = general_damped_sinusoid(rad_t, *[p['value'] for p in params.values()])\n",
    "\n",
    "fig, ax = plt.subplots(constrained_layout=True)\n",
    "ax.set_title('Gyroscope - Fit')\n",
    "ax.set_xlabel('Time since start (rad conversion)')\n",
    "ax.set_ylabel('GYROSCOPE Z (rad/s)')\n",
    "plt.plot(t, rad_vel, marker='.', linestyle='', color='b', label='data')\n",
    "plt.plot(t, pred_rad_vel, color='r', label='fit')\n",
    "plt.legend()\n",
    "plt.show();\n",
    "\n",
    "for k, v in params.items():\n",
    "    print('{} = {} +/- {}'.format(k, v['value'], v['uncert']))\n",
    "\n",
    "ang_freq = params['Angular Frequency']['value']\n",
    "dec_con = params['Decay Constant']['value']\n",
    "ang_freq_u = params['Angular Frequency']['uncert']\n",
    "dec_con_u = params['Decay Constant']['uncert']\n",
    "qf = ang_freq / (2 * dec_con)\n",
    "qf_u = math.sqrt((ang_freq_u/ang_freq)**2 + (dec_con_u/dec_con)**2) * qf\n",
    "print(\"Quality factor = {} +/- {}\".format(qf, qf_u))"
   ]
  }
 ],
 "metadata": {
  "kernelspec": {
   "display_name": "Python 3",
   "language": "python",
   "name": "python3"
  },
  "language_info": {
   "codemirror_mode": {
    "name": "ipython",
    "version": 3
   },
   "file_extension": ".py",
   "mimetype": "text/x-python",
   "name": "python",
   "nbconvert_exporter": "python",
   "pygments_lexer": "ipython3",
   "version": "3.7.7"
  }
 },
 "nbformat": 4,
 "nbformat_minor": 4
}
